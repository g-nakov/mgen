{
  "cells": [
    {
      "cell_type": "markdown",
      "metadata": {},
      "source": [
        "# Python Code Generation"
      ]
    },
    {
      "cell_type": "markdown",
      "metadata": {},
      "source": [
        "Let's take a closer look at how `mgen` generates code given a formal input specification. Starting with a data description, e.g., [common.mgen](common.mgen),\n",
        "```yaml\n",
        "ivals :\n",
        "  nlayer : contains the @number of layers (2 or 3) in the sample\n",
        "  tflash : duration of laser flash in @ms\n",
        "  cps : specific heat capacities in @J kg^-1 K^-1\n",
        "      - of the front face\n",
        "      - of the rear face\n",
        "      - of the curved side face\n",
        "  rs : heat transfer coefficient for losses in  @W m^-2 K^-1\n",
        "      - from front face\n",
        "      - from rear face\n",
        "      - curved side face\n",
        "  kappas : contains radius of\n",
        "      - sample (in @cm)\n",
        "      - laser (in @mm)\n",
        "      - measuring (in @mm)\n",
        "  lams   : array of thermal conductivities of layer @nlayer (in @W m^-2 K^-1)\n",
        "```\n",
        "we first need to generate the appropriate Python structure for storing the composite object `ivals` and its fields. We use Python classes and the [slots](https://wiki.python.org/moin/UsingSlots) special attribute for declaring data members. We also take the opportunity to initialise array fields as empty dictionaries to avoid any `IndexError` exceptions later on."
      ]
    },
    {
      "cell_type": "code",
      "execution_count": 1,
      "metadata": {
        "trusted": true
      },
      "outputs": [],
      "source": [
        "class Ivals():\n",
        "\n",
        "  __slots__ = (\"lams\", \"kappas\", \"rs\", \"cps\", \"tflash\", \"nlayer\")\n",
        "\n",
        "  def __init__(self):\n",
        "    self.lams = {}\n",
        "    self.kappas = {}\n",
        "    self.rs = {}\n",
        "    self.cps = {}"
      ]
    },
    {
      "cell_type": "markdown",
      "metadata": {},
      "source": [
        "Note that if the input specification contained nested composite objects, `mgen` would first generate the Python classes for the innermost objects. The name for these classes would be prefixed with the fully qualified scope, e.g.,\n",
        "```yaml\n",
        "group :\n",
        "  field1 : @int\n",
        "  nested_group :\n",
        "    field2 : @km\n",
        "```\n",
        "would be translated to:"
      ]
    },
    {
      "cell_type": "code",
      "execution_count": 5,
      "metadata": {
        "trusted": true
      },
      "outputs": [],
      "source": [
        "class GroupNested_group():\n",
        "\n",
        "  __slots__ = (\"field2\")\n",
        "\n",
        "\n",
        "class Group():\n",
        "\n",
        "  __slots__ = (\"nested_group\", \"field1\")\n",
        "\n",
        "  def __init__(self):\n",
        "    self.nested_group = GroupNested_group()\n"
      ]
    },
    {
      "cell_type": "markdown",
      "metadata": {},
      "source": [
        "Now with the needed structure in place, we are ready to start processing the data. We will be readin from the sample input text file [common.in](common.in)."
      ]
    },
    {
      "cell_type": "code",
      "execution_count": 2,
      "metadata": {
        "trusted": true
      },
      "outputs": [],
      "source": [
        "ivals = Ivals()\n",
        "fname = \"common.in\""
      ]
    },
    {
      "cell_type": "markdown",
      "metadata": {},
      "source": [
        "We then open the file `fname` and sequentially read the data, advancing the read pointer `readPtr` as we go along. We use the unit information to scale data into the units used internally in the program. Note also that we have merged the loops for `ivals.cps` and `ivals.rs` into a single loop, while breaking down the loop for `ivals.kappas` into a single assignment (`ivals.kappas[0] = ...`) and a loop from `1` to `2` (`for i in range(1, 3): ivals.kappas[i] = ...`) so that the different scaling factors corresponding to `cm` and `mm` are taken into account."
      ]
    },
    {
      "cell_type": "code",
      "execution_count": 3,
      "metadata": {
        "trusted": true
      },
      "outputs": [],
      "source": [
        "with open(fname) as f1:\n",
        "  src = f1.readlines()\n",
        "  readPtr = 0\n",
        "  ivals.nlayer = int(src[readPtr])\n",
        "  readPtr = readPtr + 1\n",
        "  ivals.tflash = 1e-3 * float(src[readPtr])\n",
        "  readPtr = readPtr + 1\n",
        "  for i in range(0, 3):\n",
        "      ivals.cps[i] = float(src[readPtr + i])\n",
        "      ivals.rs[i] = 1e3 * float(src[readPtr + i + 3])\n",
        "  readPtr = readPtr + 6\n",
        "  ivals.kappas[0] = 1e-2 * float(src[readPtr])\n",
        "  for i in range(1, 3):\n",
        "      ivals.kappas[i] = 1e-3 * float(src[readPtr + i])\n",
        "  readPtr = readPtr + 3\n",
        "  for i in range(0, ivals.nlayer):\n",
        "      ivals.lams[i] = 1e3 * float(src[readPtr + i])\n"
      ]
    },
    {
      "cell_type": "markdown",
      "metadata": {},
      "source": [
        "Finally, we can make sure that we have read the data properly and all the attributes have been scaled correctly with respect to the unit information from the specification [common.mgen](common.mgen)."
      ]
    },
    {
      "cell_type": "code",
      "execution_count": null,
      "metadata": {
        "trusted": true
      },
      "outputs": [],
      "source": [
        "def enum_inv(xs):\n",
        "    return [xs[i] for i in range(0,len(xs))]\n",
        "print(f\"nlayer = {ivals.nlayer}\")\n",
        "print(f\"tflash = {ivals.tflash}\")\n",
        "print(f\"cps    = {enum_inv(ivals.cps)}\")\n",
        "print(f\"rs     = {enum_inv(ivals.rs)}\")\n",
        "print(f\"kappas = {enum_inv(ivals.kappas)}\")\n",
        "print(f\"lams   = {enum_inv(ivals.lams)}\")"
      ]
    }
  ],
  "metadata": {
    "kernelspec": {
      "display_name": "Python 3",
      "language": "python",
      "name": "python3"
    },
    "language_info": {
      "codemirror_mode": {
        "name": "ipython",
        "version": 3
      },
      "file_extension": ".py",
      "mimetype": "text/x-python",
      "name": "python",
      "nbconvert_exporter": "python",
      "pygments_lexer": "ipython3",
      "version": "3.8.10"
    },
    "vscode": {
      "interpreter": {
        "hash": "916dbcbb3f70747c44a77c7bcd40155683ae19c65e1c03b4aa3499c5328201f1"
      }
    }
  },
  "nbformat": 4,
  "nbformat_minor": 4
}
